{
  "nbformat": 4,
  "nbformat_minor": 0,
  "metadata": {
    "colab": {
      "provenance": [],
      "authorship_tag": "ABX9TyM09FFUGjVCWjZ1hlrutHxy",
      "include_colab_link": true
    },
    "kernelspec": {
      "name": "python3",
      "display_name": "Python 3"
    },
    "language_info": {
      "name": "python"
    }
  },
  "cells": [
    {
      "cell_type": "markdown",
      "metadata": {
        "id": "view-in-github",
        "colab_type": "text"
      },
      "source": [
        "<a href=\"https://colab.research.google.com/github/KIMARIYOGESH/ML-project/blob/colab/Major_Project.ipynb\" target=\"_parent\"><img src=\"https://colab.research.google.com/assets/colab-badge.svg\" alt=\"Open In Colab\"/></a>"
      ]
    },
    {
      "cell_type": "markdown",
      "source": [
        "This project is solely done by\n",
        "\n",
        "> Yogesh Kimari RA2111004010270\n",
        "> Gokul Karthik Sai Vamshi RA2111004010272\n",
        "> Anirudha Sridharan RA2111004010066\n",
        "\n",
        "Guide :\n",
        "Tulika Srivastava\n",
        "\n"
      ],
      "metadata": {
        "id": "kIiAdVgb168g"
      }
    },
    {
      "cell_type": "markdown",
      "source": [
        "# RANDOM FOREST REGRESOR ALGORITHM"
      ],
      "metadata": {
        "id": "Xfz48d-JXg3K"
      }
    },
    {
      "cell_type": "code",
      "source": [
        "import pandas as pd\n",
        "from sklearn.ensemble import RandomForestRegressor\n",
        "from sklearn.metrics import r2_score\n",
        "\n",
        "# Step 1: Define the dataset\n",
        "data = {\n",
        "    \"Type\": [\"UV\", \"UV\", \"UV\", \"UV\"],\n",
        "    \"Sensitivity (%)\": [43, 14, 30, 70.6],\n",
        "    \"Material\": [\"ZnO\", \"TiO₂\", \"SnO₂\", \"In₂O₃\"],\n",
        "    \"Bandgap (eV)\": [3.3, 3.2, 3.6, 3.41],\n",
        "    \"Mobility (cm²/Vs)\": [0.2, 0.1, 20.7, 160],\n",
        "    \"Carrier Concentration (cm⁻³)\": [7.96e14, 17e14, 8.9e19, 1e20],\n",
        "    # \"Absorption Coefficient\": [5e4, 2e4, 104, 1e4]\n",
        "}\n",
        "\n",
        "df = pd.DataFrame(data)\n",
        "\n",
        "# Step 2: Get user input for Sensitivity\n",
        "user_sensitivity = float(input(\"Enter the Sensitivity in % (e.g., 43 for ZnO): \"))\n",
        "\n",
        "# Step 3: Train the Random Forest Regressor\n",
        "X = df[[\"Sensitivity (%)\"]]\n",
        "y = df[[\"Carrier Concentration (cm⁻³)\", \"Bandgap (eV)\"]]\n",
        "\n",
        "model = RandomForestRegressor(n_estimators=100, random_state=42)\n",
        "model.fit(X, y)\n",
        "\n",
        "# Step 4: Predict properties based on user input\n",
        "predicted = model.predict([[user_sensitivity]])\n",
        "predicted_carrier, predicted_bandgap = predicted[0]\n",
        "\n",
        "# Step 5: Find the closest matching material\n",
        "closest_idx = (df[\"Sensitivity (%)\"] - user_sensitivity).abs().idxmin()\n",
        "material_name = df.loc[closest_idx, \"Material\"]\n",
        "\n",
        "# Step 6: Evaluate the model's R² accuracy score\n",
        "y_pred = model.predict(X)\n",
        "r2 = r2_score(y, y_pred)\n",
        "\n",
        "# Step 7: Output the results\n",
        "print(\"\\nPredicted Results:\")\n",
        "print(f\"Carrier Concentration: {predicted_carrier:.2e} cm⁻³\")\n",
        "print(f\"Bandgap: {predicted_bandgap:.2f} eV\")\n",
        "print(f\"Closest Material: {material_name}\")\n",
        "print(f\"Model Accuracy (R² Score): {r2:.3f}\")\n"
      ],
      "metadata": {
        "colab": {
          "base_uri": "https://localhost:8080/"
        },
        "id": "A4vMpDMG2JE3",
        "outputId": "43fa3dd7-04f1-4180-c2dc-f32778b9d70b"
      },
      "execution_count": null,
      "outputs": [
        {
          "output_type": "stream",
          "name": "stdout",
          "text": [
            "Enter the Sensitivity in % (e.g., 43 for ZnO): 40\n",
            "\n",
            "Predicted Results:\n",
            "Carrier Concentration: 2.33e+19 cm⁻³\n",
            "Bandgap: 3.37 eV\n",
            "Closest Material: ZnO\n",
            "Model Accuracy (R² Score): 0.638\n"
          ]
        },
        {
          "output_type": "stream",
          "name": "stderr",
          "text": [
            "/usr/local/lib/python3.11/dist-packages/sklearn/utils/validation.py:2739: UserWarning: X does not have valid feature names, but RandomForestRegressor was fitted with feature names\n",
            "  warnings.warn(\n"
          ]
        }
      ]
    },
    {
      "cell_type": "markdown",
      "source": [
        "# RANDOM FOREST REGRESSOR WITH ONE HOT ENCODER"
      ],
      "metadata": {
        "id": "iSnu-viTedeQ"
      }
    },
    {
      "cell_type": "code",
      "source": [
        "import pandas as pd\n",
        "from sklearn.ensemble import RandomForestRegressor\n",
        "from sklearn.metrics import r2_score\n",
        "from sklearn.preprocessing import OneHotEncoder\n",
        "import numpy as np\n",
        "\n",
        "# Steps:\n",
        "# 1. Define the dataset with material properties.\n",
        "# 2. One-hot encode the \"Type\" column to convert categorical data into numerical form.\n",
        "# 3. Train a Random Forest Regressor model using Sensitivity and Type as inputs.\n",
        "# 4. Get user input for Sensitivity and Type.\n",
        "# 5. One-hot encode the user input Type.\n",
        "# 6. Predict Carrier Concentration, Bandgap, and Absorption Coefficient based on user input.\n",
        "# 7. Find the closest matching material from the dataset.\n",
        "# 8. Evaluate the model's accuracy using R² score.\n",
        "# 9. Display the predicted results.\n",
        "\n",
        "# Step 1: Define the dataset\n",
        "data = {\n",
        "    \"Type\": [\"UV\", \"UV\", \"UV\", \"UV\", \"Vis\", \"Vis\", \"Vis\", \"Vis\", \"IR\", \"IR\", \"IR\", \"IR\", \"X-ray\", \"X-ray\", \"X-ray\", \"X-ray\", \"Gamma\", \"Gamma\", \"Gamma\", \"Gamma\"],\n",
        "    \"Sensitivity (%)\": [43, 14, 30, 70.6, 55, 23, 40, 75, 60, 28, 35, 80, 65, 33, 38, 90, 50, 20, 45, 85],\n",
        "    \"Material\": [\"ZnO\", \"TiO₂\", \"SnO₂\", \"In₂O₃\", \"CdS\", \"CdSe\", \"PbS\", \"GaAs\", \"HgCdTe\", \"InSb\", \"Ge\", \"PbSe\", \"CsI\", \"NaI\", \"BaF₂\", \"LaBr₃\", \"GSO\", \"LYSO\", \"BGO\", \"CdWO₄\"],\n",
        "    \"Bandgap (eV)\": [3.3, 3.2, 3.6, 3.41, 2.42, 1.74, 0.41, 1.42, 0.17, 0.23, 0.66, 0.27, 6.2, 5.9, 7.0, 5.0, 4.3, 3.8, 4.6, 4.9],\n",
        "    \"Carrier Concentration (cm⁻³)\": [7.96e14, 17e14, 8.9e19, 1e20, 1.2e15, 9.8e15, 5.4e18, 2.5e17, 3.1e16, 4.2e16, 1.5e17, 6.7e16, 1.1e12, 9.5e11, 2.3e12, 8.4e11, 6.0e10, 4.5e10, 5.2e10, 7.1e10],\n",
        "    \"Absorption Coefficient\": [5e4, 2e4, 104, 1e4, 6e4, 2.5e4, 150, 8.5e3, 3e3, 1.5e3, 2.8e3, 1.2e3, 400, 300, 500, 250, 200, 180, 220, 240]\n",
        "}\n",
        "\n",
        "df = pd.DataFrame(data)\n",
        "\n",
        "# Step 2: One-Hot Encode the \"Type\" column\n",
        "encoder = OneHotEncoder(sparse_output=False, handle_unknown='ignore')\n",
        "type_encoded = encoder.fit_transform(df[[\"Type\"]])\n",
        "type_labels = encoder.get_feature_names_out([\"Type\"])\n",
        "df_encoded = pd.concat([df.drop(columns=[\"Type\", \"Material\"]), pd.DataFrame(type_encoded, columns=type_labels)], axis=1)\n",
        "\n",
        "# Step 3: Train the Random Forest Model\n",
        "X = df_encoded.drop(columns=[\"Carrier Concentration (cm⁻³)\", \"Bandgap (eV)\", \"Absorption Coefficient\"])\n",
        "y = df_encoded[[\"Carrier Concentration (cm⁻³)\", \"Bandgap (eV)\", \"Absorption Coefficient\"]]\n",
        "\n",
        "model = RandomForestRegressor(n_estimators=100, random_state=42)\n",
        "model.fit(X, y)\n",
        "\n",
        "# Step 4: Get user inputs for Sensitivity and Type\n",
        "user_sensitivity = float(input(\"Enter the Sensitivity in %: \"))\n",
        "user_type = input(\"Enter the Type (e.g., UV): \")\n",
        "\n",
        "# Step 5: One-hot encode the user Type input\n",
        "user_type_encoded = encoder.transform([[user_type]])\n",
        "user_type_encoded = pd.DataFrame(user_type_encoded, columns=type_labels)\n",
        "\n",
        "# Ensure all columns exist in user input\n",
        "for col in type_labels:\n",
        "    if col not in user_type_encoded.columns:\n",
        "        user_type_encoded[col] = 0\n",
        "\n",
        "# Step 6: Combine inputs correctly\n",
        "user_input = np.hstack([np.array([[user_sensitivity]]), user_type_encoded.to_numpy()])\n",
        "\n",
        "# Ensure user input has the same number of features as training data\n",
        "missing_cols = set(X.columns) - set(user_type_encoded.columns)\n",
        "for col in missing_cols:\n",
        "    user_type_encoded[col] = 0\n",
        "user_type_encoded = user_type_encoded[X.columns]\n",
        "\n",
        "# Step 7: Predict properties based on user input\n",
        "predicted = model.predict(user_input)\n",
        "predicted_carrier, predicted_bandgap, predicted_absorption = predicted[0]\n",
        "\n",
        "# Step 8: Find the closest matching material\n",
        "closest_idx = (df[\"Sensitivity (%)\"] - user_sensitivity).abs().idxmin()\n",
        "material_name = df.loc[closest_idx, \"Material\"]\n",
        "\n",
        "# Step 9: Evaluate the model's accuracy\n",
        "y_pred = model.predict(X)\n",
        "r2 = r2_score(y, y_pred)\n",
        "\n",
        "# Step 10: Output the results\n",
        "print(\"\\nPredicted Results:\")\n",
        "print(f\"Carrier Concentration: {predicted_carrier:.2e} cm⁻³\")\n",
        "print(f\"Bandgap: {predicted_bandgap:.2f} eV\")\n",
        "print(f\"Absorption Coefficient: {predicted_absorption:.2e}\")\n",
        "print(f\"Closest Material: {material_name}\")\n",
        "print(f\"Model Accuracy (R² Score): {r2:.3f}\")\n"
      ],
      "metadata": {
        "colab": {
          "base_uri": "https://localhost:8080/"
        },
        "id": "VSiM65-yXr87",
        "outputId": "0fe3048c-78f6-4220-f168-4f0a09c2033f"
      },
      "execution_count": null,
      "outputs": [
        {
          "output_type": "stream",
          "name": "stdout",
          "text": [
            "Enter the Sensitivity in %: 40\n",
            "Enter the Type (e.g., UV): UV\n",
            "\n",
            "Predicted Results:\n",
            "Carrier Concentration: 2.93e+19 cm⁻³\n",
            "Bandgap: 3.43 eV\n",
            "Absorption Coefficient: 2.98e+04\n",
            "Closest Material: PbS\n",
            "Model Accuracy (R² Score): 0.839\n"
          ]
        },
        {
          "output_type": "stream",
          "name": "stderr",
          "text": [
            "/usr/local/lib/python3.11/dist-packages/sklearn/utils/validation.py:2739: UserWarning: X does not have valid feature names, but OneHotEncoder was fitted with feature names\n",
            "  warnings.warn(\n",
            "/usr/local/lib/python3.11/dist-packages/sklearn/utils/validation.py:2739: UserWarning: X does not have valid feature names, but RandomForestRegressor was fitted with feature names\n",
            "  warnings.warn(\n"
          ]
        }
      ]
    },
    {
      "cell_type": "markdown",
      "source": [
        "# GRADIENT BOOSTING REGRESSOR WITH MULTIOUTPUT REGRESSOR AND ONE HOT ENCODER\n",
        "\n",
        "This helps to map multiple inputs of different data type to map with the output requirements."
      ],
      "metadata": {
        "id": "FljThMeeeLIp"
      }
    },
    {
      "cell_type": "code",
      "source": [
        "import pandas as pd\n",
        "from sklearn.ensemble import GradientBoostingRegressor\n",
        "from sklearn.multioutput import MultiOutputRegressor\n",
        "from sklearn.metrics import r2_score\n",
        "from sklearn.preprocessing import OneHotEncoder\n",
        "import numpy as np\n",
        "\n",
        "# Steps:\n",
        "# 1. Define the dataset with material properties.\n",
        "# 2. One-hot encode the \"Type\" column to convert categorical data into numerical form.\n",
        "# 3. Train a Gradient Boosting Regressor model using Sensitivity and Type as inputs.\n",
        "# 4. Get user input for Sensitivity and Type.\n",
        "# 5. One-hot encode the user input Type.\n",
        "# 6. Predict Carrier Concentration, Bandgap, and Absorption Coefficient based on user input.\n",
        "# 7. Find the closest matching material from the dataset.\n",
        "# 8. Evaluate the model's accuracy using R² score.\n",
        "# 9. Display the predicted results.\n",
        "\n",
        "# Step 1: Define the dataset\n",
        "data = {\n",
        "    \"Type\": [\"UV\", \"UV\", \"UV\", \"UV\", \"Vis\", \"Vis\", \"Vis\", \"Vis\", \"IR\", \"IR\", \"IR\", \"IR\", \"X-ray\", \"X-ray\", \"X-ray\", \"X-ray\", \"Gamma\", \"Gamma\", \"Gamma\", \"Gamma\"],\n",
        "    \"Sensitivity (%)\": [43, 14, 30, 70.6, 55, 23, 40, 75, 60, 28, 35, 80, 65, 33, 38, 90, 50, 20, 45, 85],\n",
        "    \"Material\": [\"ZnO\", \"TiO₂\", \"SnO₂\", \"In₂O₃\", \"CdS\", \"CdSe\", \"PbS\", \"GaAs\", \"HgCdTe\", \"InSb\", \"Ge\", \"PbSe\", \"CsI\", \"NaI\", \"BaF₂\", \"LaBr₃\", \"GSO\", \"LYSO\", \"BGO\", \"CdWO₄\"],\n",
        "    \"Bandgap (eV)\": [3.3, 3.2, 3.6, 3.41, 2.42, 1.74, 0.41, 1.42, 0.17, 0.23, 0.66, 0.27, 6.2, 5.9, 7.0, 5.0, 4.3, 3.8, 4.6, 4.9],\n",
        "    \"Carrier Concentration (cm⁻³)\": [7.96e14, 17e14, 8.9e19, 1e20, 1.2e15, 9.8e15, 5.4e18, 2.5e17, 3.1e16, 4.2e16, 1.5e17, 6.7e16, 1.1e12, 9.5e11, 2.3e12, 8.4e11, 6.0e10, 4.5e10, 5.2e10, 7.1e10],\n",
        "    \"Absorption Coefficient\": [5e4, 2e4, 104, 1e4, 6e4, 2.5e4, 150, 8.5e3, 3e3, 1.5e3, 2.8e3, 1.2e3, 400, 300, 500, 250, 200, 180, 220, 240]\n",
        "}\n",
        "\n",
        "df = pd.DataFrame(data)\n",
        "\n",
        "# Step 2: One-Hot Encode the \"Type\" column\n",
        "encoder = OneHotEncoder(sparse_output=False)\n",
        "type_encoded = encoder.fit_transform(df[[\"Type\"]])\n",
        "type_labels = encoder.get_feature_names_out([\"Type\"])\n",
        "df_encoded = pd.concat([df.drop(columns=[\"Type\"]), pd.DataFrame(type_encoded, columns=type_labels)], axis=1)\n",
        "\n",
        "# Step 3: Train the Gradient Boosting Model (multi-output regression)\n",
        "X = df_encoded.drop(columns=[\"Material\", \"Carrier Concentration (cm⁻³)\", \"Bandgap (eV)\", \"Absorption Coefficient\"])\n",
        "y = df_encoded[[\"Carrier Concentration (cm⁻³)\", \"Bandgap (eV)\", \"Absorption Coefficient\"]]\n",
        "\n",
        "# Wrap the GradientBoostingRegressor in a MultiOutputRegressor\n",
        "model = MultiOutputRegressor(GradientBoostingRegressor(n_estimators=100, random_state=42))\n",
        "model.fit(X, y)\n",
        "\n",
        "# Step 4: Get user inputs for Sensitivity and Type\n",
        "user_sensitivity = float(input(\"Enter the Sensitivity in %: \"))\n",
        "user_type = input(\"Enter the Type (e.g., UV): \")\n",
        "\n",
        "# Step 5: One-hot encode the user Type input\n",
        "user_type_encoded = encoder.transform([[user_type]])\n",
        "user_type_encoded = user_type_encoded.reshape(1, -1)  # Ensure it's a 2D array\n",
        "\n",
        "# Step 6: Combine inputs correctly\n",
        "user_input = np.hstack([np.array([[user_sensitivity]]), user_type_encoded])\n",
        "\n",
        "# Step 7: Predict properties based on user input\n",
        "predicted = model.predict(user_input)\n",
        "predicted_carrier, predicted_bandgap, predicted_absorption = predicted[0]\n",
        "\n",
        "# Step 8: Find the closest matching material\n",
        "closest_idx = (df[\"Sensitivity (%)\"] - user_sensitivity).abs().idxmin()\n",
        "material_name = df.loc[closest_idx, \"Material\"]\n",
        "\n",
        "# Step 9: Evaluate the model's accuracy\n",
        "y_pred = model.predict(X)\n",
        "r2 = r2_score(y, y_pred)\n",
        "\n",
        "# Step 10: Output the results\n",
        "print(\"\\nPredicted Results:\")\n",
        "print(f\"Carrier Concentration: {predicted_carrier:.2e} cm⁻³\")\n",
        "print(f\"Bandgap: {predicted_bandgap:.2f} eV\")\n",
        "print(f\"Absorption Coefficient: {predicted_absorption:.2e}\")\n",
        "print(f\"Closest Material: {material_name}\")\n",
        "print(f\"Model Accuracy (R² Score): {r2:.3f}\")\n"
      ],
      "metadata": {
        "colab": {
          "base_uri": "https://localhost:8080/"
        },
        "id": "K0JrQCjwdWWk",
        "outputId": "1fe43cfb-1dfd-4585-b2a9-8e35297b7a2b"
      },
      "execution_count": 1,
      "outputs": [
        {
          "output_type": "stream",
          "name": "stdout",
          "text": [
            "Enter the Sensitivity in %: 40\n",
            "Enter the Type (e.g., UV): UV\n",
            "\n",
            "Predicted Results:\n",
            "Carrier Concentration: 9.10e+18 cm⁻³\n",
            "Bandgap: 2.57 eV\n",
            "Absorption Coefficient: 2.31e+04\n",
            "Closest Material: PbS\n",
            "Model Accuracy (R² Score): 1.000\n"
          ]
        },
        {
          "output_type": "stream",
          "name": "stderr",
          "text": [
            "/usr/local/lib/python3.11/dist-packages/sklearn/utils/validation.py:2739: UserWarning: X does not have valid feature names, but OneHotEncoder was fitted with feature names\n",
            "  warnings.warn(\n",
            "/usr/local/lib/python3.11/dist-packages/sklearn/utils/validation.py:2739: UserWarning: X does not have valid feature names, but GradientBoostingRegressor was fitted with feature names\n",
            "  warnings.warn(\n",
            "/usr/local/lib/python3.11/dist-packages/sklearn/utils/validation.py:2739: UserWarning: X does not have valid feature names, but GradientBoostingRegressor was fitted with feature names\n",
            "  warnings.warn(\n",
            "/usr/local/lib/python3.11/dist-packages/sklearn/utils/validation.py:2739: UserWarning: X does not have valid feature names, but GradientBoostingRegressor was fitted with feature names\n",
            "  warnings.warn(\n"
          ]
        }
      ]
    },
    {
      "cell_type": "markdown",
      "source": [],
      "metadata": {
        "id": "zW2Cs7Z2CVao"
      }
    }
  ]
}